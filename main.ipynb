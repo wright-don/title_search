{
 "cells": [
  {
   "cell_type": "markdown",
   "metadata": {},
   "source": [
    "## Import Necessary Dependencies\n"
   ]
  },
  {
   "cell_type": "code",
   "execution_count": 1,
   "metadata": {},
   "outputs": [],
   "source": [
    "# OS\n",
    "import os\n",
    "\n",
    "# Time\n",
    "import time\n",
    "\n",
    "#CSV \n",
    "import csv\n",
    "\n",
    "# Excel Sheets\n",
    "import csv\n",
    "\n",
    "# ###########\n",
    "#   Modules - Classes that contain functions used within code\n",
    "# #############\n",
    "from selenium import webdriver\n",
    "from selenium.webdriver.common.by import By\n",
    "from selenium.webdriver.chrome.service import Service\n",
    "from selenium.common.exceptions import NoSuchElementException\n",
    "\n",
    "# Beautiful Soup\n",
    "from bs4 import BeautifulSoup\n",
    "# # Login Module ( For Using Login Class )\n",
    "# from modules.login import Login as login\n",
    "# # Go To Homepage Module ( Making Company Search Query and Navigating to Homepage )\n",
    "# from modules.go_to_homepage import GoToHomepage\n",
    "# # Get Search Module \n",
    "# from modules.get_search import GetSearch\n",
    "# # Get Search Module \n",
    "# from modules.collect import Collect\n",
    "\n",
    "\n",
    "# CONFIG\n",
    "import configparser\n",
    "import pathlib\n",
    "config = configparser.ConfigParser()\n",
    "config.read(\"config.ini\")\n",
    "EMAIL = config[\"DEFAULT\"][\"EMAIL\"]\n",
    "KEY = config[\"DEFAULT\"][\"KEY\"]\n",
    "\n",
    "\n",
    "\n",
    "driver = Service('driver/chromedriver')\n",
    "browser = webdriver.Chrome(service=driver)"
   ]
  },
  {
   "cell_type": "markdown",
   "metadata": {},
   "source": []
  },
  {
   "cell_type": "markdown",
   "metadata": {},
   "source": [
    "## Add Companies and Queries (Search Terms)\n",
    " "
   ]
  },
  {
   "cell_type": "code",
   "execution_count": 5,
   "metadata": {},
   "outputs": [],
   "source": [
    "# GET COMPANIES\n",
    "companies = []\n",
    "file_path = \"company_urls.txt\"\n",
    "with open(file_path, 'r') as companies_list:\n",
    "    for i in companies_list.readlines():\n",
    "        name= i.replace('\\n', \"\")\n",
    "        companies.append(name)\n",
    "\n",
    "\n",
    "# SEARCH TERMS\n",
    "search_terms = ['marketing', 'strategy', 'operations']"
   ]
  },
  {
   "cell_type": "markdown",
   "metadata": {},
   "source": [
    "## Set headers for Exported CSV"
   ]
  },
  {
   "cell_type": "code",
   "execution_count": 2,
   "metadata": {},
   "outputs": [],
   "source": [
    "# Set Excel Header Row\n",
    "headers = [\"Company URL\", \"marketing\", \"strategy\", \"operations\"]\n",
    "\n",
    "with open('final_list.csv', 'a') as f:\n",
    "    object = csv.writer(f)\n",
    "    object.writerow(headers)\n",
    "    f.close()"
   ]
  },
  {
   "cell_type": "markdown",
   "metadata": {},
   "source": [
    "## Login"
   ]
  },
  {
   "cell_type": "code",
   "execution_count": 3,
   "metadata": {},
   "outputs": [],
   "source": [
    "# Login\n",
    "def login(username, key):\n",
    "    browser.get('https://www.linkedin.com/uas/login')\n",
    "    elementID = browser.find_element(By.ID, 'username')\n",
    "    elementID.send_keys(username)\n",
    "    elementID = browser.find_element(By.ID, 'password')\n",
    "    elementID.send_keys(key)\n",
    "    elementID.submit()   \n",
    "\n",
    "login(EMAIL, KEY)"
   ]
  },
  {
   "cell_type": "markdown",
   "metadata": {},
   "source": [
    "## Search Function"
   ]
  },
  {
   "cell_type": "code",
   "execution_count": 6,
   "metadata": {},
   "outputs": [
    {
     "ename": "NoSuchWindowException",
     "evalue": "Message: no such window: window was already closed\n  (Session info: chrome=98.0.4758.102)\nStacktrace:\n0   chromedriver                        0x00000001015c4e69 chromedriver + 5160553\n1   chromedriver                        0x000000010154f593 chromedriver + 4679059\n2   chromedriver                        0x00000001011032c8 chromedriver + 172744\n3   chromedriver                        0x00000001010f2a05 chromedriver + 104965\n4   chromedriver                        0x00000001010f3eb2 chromedriver + 110258\n5   chromedriver                        0x00000001010ecba2 chromedriver + 80802\n6   chromedriver                        0x0000000101104753 chromedriver + 178003\n7   chromedriver                        0x000000010116875c chromedriver + 587612\n8   chromedriver                        0x0000000101156623 chromedriver + 513571\n9   chromedriver                        0x000000010112bdce chromedriver + 339406\n10  chromedriver                        0x000000010112d105 chromedriver + 344325\n11  chromedriver                        0x000000010158023e chromedriver + 4878910\n12  chromedriver                        0x0000000101597d17 chromedriver + 4975895\n13  chromedriver                        0x000000010159da3f chromedriver + 4999743\n14  chromedriver                        0x000000010159861a chromedriver + 4978202\n15  chromedriver                        0x0000000101574bb1 chromedriver + 4832177\n16  chromedriver                        0x00000001015b4fd8 chromedriver + 5095384\n17  chromedriver                        0x00000001015b5161 chromedriver + 5095777\n18  chromedriver                        0x00000001015cc2a8 chromedriver + 5190312\n19  libsystem_pthread.dylib             0x00007fff205b38fc _pthread_start + 224\n20  libsystem_pthread.dylib             0x00007fff205af443 thread_start + 15\n",
     "output_type": "error",
     "traceback": [
      "\u001b[0;31m---------------------------------------------------------------------------\u001b[0m",
      "\u001b[0;31mNoSuchWindowException\u001b[0m                     Traceback (most recent call last)",
      "\u001b[1;32m/Users/donovanwright/Desktop/code/title_search/main.ipynb Cell 11'\u001b[0m in \u001b[0;36m<module>\u001b[0;34m\u001b[0m\n\u001b[1;32m    <a href='vscode-notebook-cell:/Users/donovanwright/Desktop/code/title_search/main.ipynb#ch0000010?line=106'>107</a>\u001b[0m search \u001b[39m=\u001b[39m Search(browser, search_terms, time)\n\u001b[1;32m    <a href='vscode-notebook-cell:/Users/donovanwright/Desktop/code/title_search/main.ipynb#ch0000010?line=107'>108</a>\u001b[0m \u001b[39mfor\u001b[39;00m company_url \u001b[39min\u001b[39;00m companies: \n\u001b[0;32m--> <a href='vscode-notebook-cell:/Users/donovanwright/Desktop/code/title_search/main.ipynb#ch0000010?line=108'>109</a>\u001b[0m     search\u001b[39m.\u001b[39;49mgo_to_page(company_url)\n\u001b[1;32m    <a href='vscode-notebook-cell:/Users/donovanwright/Desktop/code/title_search/main.ipynb#ch0000010?line=110'>111</a>\u001b[0m browser\u001b[39m.\u001b[39mclose()\n",
      "\u001b[1;32m/Users/donovanwright/Desktop/code/title_search/main.ipynb Cell 11'\u001b[0m in \u001b[0;36mSearch.go_to_page\u001b[0;34m(self, company_url)\u001b[0m\n\u001b[1;32m     <a href='vscode-notebook-cell:/Users/donovanwright/Desktop/code/title_search/main.ipynb#ch0000010?line=13'>14</a>\u001b[0m data \u001b[39m=\u001b[39m []\n\u001b[1;32m     <a href='vscode-notebook-cell:/Users/donovanwright/Desktop/code/title_search/main.ipynb#ch0000010?line=14'>15</a>\u001b[0m \u001b[39mfor\u001b[39;00m search_term \u001b[39min\u001b[39;00m \u001b[39mself\u001b[39m\u001b[39m.\u001b[39msearch_terms:\n\u001b[0;32m---> <a href='vscode-notebook-cell:/Users/donovanwright/Desktop/code/title_search/main.ipynb#ch0000010?line=15'>16</a>\u001b[0m     results \u001b[39m=\u001b[39m \u001b[39mself\u001b[39;49m\u001b[39m.\u001b[39;49mget_search(company_url, search_term)\n\u001b[1;32m     <a href='vscode-notebook-cell:/Users/donovanwright/Desktop/code/title_search/main.ipynb#ch0000010?line=16'>17</a>\u001b[0m     data\u001b[39m.\u001b[39mappend(results)\n\u001b[1;32m     <a href='vscode-notebook-cell:/Users/donovanwright/Desktop/code/title_search/main.ipynb#ch0000010?line=18'>19</a>\u001b[0m marketing\u001b[39m=\u001b[39mdata[\u001b[39m0\u001b[39m]\n",
      "\u001b[1;32m/Users/donovanwright/Desktop/code/title_search/main.ipynb Cell 11'\u001b[0m in \u001b[0;36mSearch.get_search\u001b[0;34m(self, company, search_query)\u001b[0m\n\u001b[1;32m     <a href='vscode-notebook-cell:/Users/donovanwright/Desktop/code/title_search/main.ipynb#ch0000010?line=31'>32</a>\u001b[0m \u001b[39m#Navigate to company homepage by clicking on search query link. \u001b[39;00m\n\u001b[1;32m     <a href='vscode-notebook-cell:/Users/donovanwright/Desktop/code/title_search/main.ipynb#ch0000010?line=32'>33</a>\u001b[0m \u001b[39m#Use direct selenium to grab company employee search query page \u001b[39;00m\n\u001b[1;32m     <a href='vscode-notebook-cell:/Users/donovanwright/Desktop/code/title_search/main.ipynb#ch0000010?line=34'>35</a>\u001b[0m \u001b[39mtry\u001b[39;00m: \n\u001b[0;32m---> <a href='vscode-notebook-cell:/Users/donovanwright/Desktop/code/title_search/main.ipynb#ch0000010?line=35'>36</a>\u001b[0m     company_search_query_page_parent_element \u001b[39m=\u001b[39m browser\u001b[39m.\u001b[39;49mfind_element(\n\u001b[1;32m     <a href='vscode-notebook-cell:/Users/donovanwright/Desktop/code/title_search/main.ipynb#ch0000010?line=36'>37</a>\u001b[0m         By\u001b[39m.\u001b[39;49mCLASS_NAME, \u001b[39m'\u001b[39;49m\u001b[39mdisplay-flex.mt2.mb1\u001b[39;49m\u001b[39m'\u001b[39;49m)\n\u001b[1;32m     <a href='vscode-notebook-cell:/Users/donovanwright/Desktop/code/title_search/main.ipynb#ch0000010?line=37'>38</a>\u001b[0m     company_search_query_page \u001b[39m=\u001b[39m company_search_query_page_parent_element\u001b[39m.\u001b[39mfind_element(By\u001b[39m.\u001b[39mCLASS_NAME,\n\u001b[1;32m     <a href='vscode-notebook-cell:/Users/donovanwright/Desktop/code/title_search/main.ipynb#ch0000010?line=38'>39</a>\u001b[0m     \u001b[39m'\u001b[39m\u001b[39member-view\u001b[39m\u001b[39m'\u001b[39m)\n\u001b[1;32m     <a href='vscode-notebook-cell:/Users/donovanwright/Desktop/code/title_search/main.ipynb#ch0000010?line=39'>40</a>\u001b[0m     company_search_query_page\u001b[39m.\u001b[39mclick()\n",
      "File \u001b[0;32m~/Desktop/code/title_search/venv/lib/python3.9/site-packages/selenium/webdriver/remote/webdriver.py:1244\u001b[0m, in \u001b[0;36mWebDriver.find_element\u001b[0;34m(self, by, value)\u001b[0m\n\u001b[1;32m   <a href='file:///~/Desktop/code/title_search/venv/lib/python3.9/site-packages/selenium/webdriver/remote/webdriver.py?line=1240'>1241</a>\u001b[0m     by \u001b[39m=\u001b[39m By\u001b[39m.\u001b[39mCSS_SELECTOR\n\u001b[1;32m   <a href='file:///~/Desktop/code/title_search/venv/lib/python3.9/site-packages/selenium/webdriver/remote/webdriver.py?line=1241'>1242</a>\u001b[0m     value \u001b[39m=\u001b[39m \u001b[39m'\u001b[39m\u001b[39m[name=\u001b[39m\u001b[39m\"\u001b[39m\u001b[39m%s\u001b[39;00m\u001b[39m\"\u001b[39m\u001b[39m]\u001b[39m\u001b[39m'\u001b[39m \u001b[39m%\u001b[39m value\n\u001b[0;32m-> <a href='file:///~/Desktop/code/title_search/venv/lib/python3.9/site-packages/selenium/webdriver/remote/webdriver.py?line=1243'>1244</a>\u001b[0m \u001b[39mreturn\u001b[39;00m \u001b[39mself\u001b[39;49m\u001b[39m.\u001b[39;49mexecute(Command\u001b[39m.\u001b[39;49mFIND_ELEMENT, {\n\u001b[1;32m   <a href='file:///~/Desktop/code/title_search/venv/lib/python3.9/site-packages/selenium/webdriver/remote/webdriver.py?line=1244'>1245</a>\u001b[0m     \u001b[39m'\u001b[39;49m\u001b[39musing\u001b[39;49m\u001b[39m'\u001b[39;49m: by,\n\u001b[1;32m   <a href='file:///~/Desktop/code/title_search/venv/lib/python3.9/site-packages/selenium/webdriver/remote/webdriver.py?line=1245'>1246</a>\u001b[0m     \u001b[39m'\u001b[39;49m\u001b[39mvalue\u001b[39;49m\u001b[39m'\u001b[39;49m: value})[\u001b[39m'\u001b[39m\u001b[39mvalue\u001b[39m\u001b[39m'\u001b[39m]\n",
      "File \u001b[0;32m~/Desktop/code/title_search/venv/lib/python3.9/site-packages/selenium/webdriver/remote/webdriver.py:424\u001b[0m, in \u001b[0;36mWebDriver.execute\u001b[0;34m(self, driver_command, params)\u001b[0m\n\u001b[1;32m    <a href='file:///~/Desktop/code/title_search/venv/lib/python3.9/site-packages/selenium/webdriver/remote/webdriver.py?line=421'>422</a>\u001b[0m response \u001b[39m=\u001b[39m \u001b[39mself\u001b[39m\u001b[39m.\u001b[39mcommand_executor\u001b[39m.\u001b[39mexecute(driver_command, params)\n\u001b[1;32m    <a href='file:///~/Desktop/code/title_search/venv/lib/python3.9/site-packages/selenium/webdriver/remote/webdriver.py?line=422'>423</a>\u001b[0m \u001b[39mif\u001b[39;00m response:\n\u001b[0;32m--> <a href='file:///~/Desktop/code/title_search/venv/lib/python3.9/site-packages/selenium/webdriver/remote/webdriver.py?line=423'>424</a>\u001b[0m     \u001b[39mself\u001b[39;49m\u001b[39m.\u001b[39;49merror_handler\u001b[39m.\u001b[39;49mcheck_response(response)\n\u001b[1;32m    <a href='file:///~/Desktop/code/title_search/venv/lib/python3.9/site-packages/selenium/webdriver/remote/webdriver.py?line=424'>425</a>\u001b[0m     response[\u001b[39m'\u001b[39m\u001b[39mvalue\u001b[39m\u001b[39m'\u001b[39m] \u001b[39m=\u001b[39m \u001b[39mself\u001b[39m\u001b[39m.\u001b[39m_unwrap_value(\n\u001b[1;32m    <a href='file:///~/Desktop/code/title_search/venv/lib/python3.9/site-packages/selenium/webdriver/remote/webdriver.py?line=425'>426</a>\u001b[0m         response\u001b[39m.\u001b[39mget(\u001b[39m'\u001b[39m\u001b[39mvalue\u001b[39m\u001b[39m'\u001b[39m, \u001b[39mNone\u001b[39;00m))\n\u001b[1;32m    <a href='file:///~/Desktop/code/title_search/venv/lib/python3.9/site-packages/selenium/webdriver/remote/webdriver.py?line=426'>427</a>\u001b[0m     \u001b[39mreturn\u001b[39;00m response\n",
      "File \u001b[0;32m~/Desktop/code/title_search/venv/lib/python3.9/site-packages/selenium/webdriver/remote/errorhandler.py:247\u001b[0m, in \u001b[0;36mErrorHandler.check_response\u001b[0;34m(self, response)\u001b[0m\n\u001b[1;32m    <a href='file:///~/Desktop/code/title_search/venv/lib/python3.9/site-packages/selenium/webdriver/remote/errorhandler.py?line=244'>245</a>\u001b[0m         alert_text \u001b[39m=\u001b[39m value[\u001b[39m'\u001b[39m\u001b[39malert\u001b[39m\u001b[39m'\u001b[39m]\u001b[39m.\u001b[39mget(\u001b[39m'\u001b[39m\u001b[39mtext\u001b[39m\u001b[39m'\u001b[39m)\n\u001b[1;32m    <a href='file:///~/Desktop/code/title_search/venv/lib/python3.9/site-packages/selenium/webdriver/remote/errorhandler.py?line=245'>246</a>\u001b[0m     \u001b[39mraise\u001b[39;00m exception_class(message, screen, stacktrace, alert_text)  \u001b[39m# type: ignore[call-arg]  # mypy is not smart enough here\u001b[39;00m\n\u001b[0;32m--> <a href='file:///~/Desktop/code/title_search/venv/lib/python3.9/site-packages/selenium/webdriver/remote/errorhandler.py?line=246'>247</a>\u001b[0m \u001b[39mraise\u001b[39;00m exception_class(message, screen, stacktrace)\n",
      "\u001b[0;31mNoSuchWindowException\u001b[0m: Message: no such window: window was already closed\n  (Session info: chrome=98.0.4758.102)\nStacktrace:\n0   chromedriver                        0x00000001015c4e69 chromedriver + 5160553\n1   chromedriver                        0x000000010154f593 chromedriver + 4679059\n2   chromedriver                        0x00000001011032c8 chromedriver + 172744\n3   chromedriver                        0x00000001010f2a05 chromedriver + 104965\n4   chromedriver                        0x00000001010f3eb2 chromedriver + 110258\n5   chromedriver                        0x00000001010ecba2 chromedriver + 80802\n6   chromedriver                        0x0000000101104753 chromedriver + 178003\n7   chromedriver                        0x000000010116875c chromedriver + 587612\n8   chromedriver                        0x0000000101156623 chromedriver + 513571\n9   chromedriver                        0x000000010112bdce chromedriver + 339406\n10  chromedriver                        0x000000010112d105 chromedriver + 344325\n11  chromedriver                        0x000000010158023e chromedriver + 4878910\n12  chromedriver                        0x0000000101597d17 chromedriver + 4975895\n13  chromedriver                        0x000000010159da3f chromedriver + 4999743\n14  chromedriver                        0x000000010159861a chromedriver + 4978202\n15  chromedriver                        0x0000000101574bb1 chromedriver + 4832177\n16  chromedriver                        0x00000001015b4fd8 chromedriver + 5095384\n17  chromedriver                        0x00000001015b5161 chromedriver + 5095777\n18  chromedriver                        0x00000001015cc2a8 chromedriver + 5190312\n19  libsystem_pthread.dylib             0x00007fff205b38fc _pthread_start + 224\n20  libsystem_pthread.dylib             0x00007fff205af443 thread_start + 15\n"
     ]
    }
   ],
   "source": [
    "class Search():\n",
    "\n",
    "    def __init__(self, browser, search_terms, time):\n",
    "        self.browser = browser\n",
    "        self.search_terms = search_terms\n",
    "        self.time = time\n",
    "\n",
    "\n",
    "    # Go To Homepage Method\n",
    "    def go_to_page(self, company_url):\n",
    "        self.browser.get(company_url)\n",
    "        self.browser.implicitly_wait(2)\n",
    "\n",
    "        data = []\n",
    "        for search_term in self.search_terms:\n",
    "            results = self.get_search(company_url, search_term)\n",
    "            data.append(results)\n",
    "            \n",
    "        marketing=data[0]\n",
    "        strategy=data[1]\n",
    "        operations=data[2]\n",
    "\n",
    "        row = [company_url, marketing, strategy, operations]\n",
    "\n",
    "        with open(\"final_list.csv\", 'a') as csvfile: \n",
    "            object = csv.writer(csvfile)\n",
    "            object.writerow(row)\n",
    "            csvfile.close()\n",
    "\n",
    "    def get_search(self, company, search_query):\n",
    "        self.time.sleep(2) \n",
    "        #Navigate to company homepage by clicking on search query link. \n",
    "        #Use direct selenium to grab company employee search query page \n",
    "\n",
    "        try: \n",
    "            company_search_query_page_parent_element = browser.find_element(\n",
    "                By.CLASS_NAME, 'display-flex.mt2.mb1')\n",
    "            company_search_query_page = company_search_query_page_parent_element.find_element(By.CLASS_NAME,\n",
    "            'ember-view')\n",
    "            company_search_query_page.click()\n",
    "            self.time.sleep(3)\n",
    "            search_query_url = str(self.browser.current_url)\n",
    "            position = search_query_url.find('COMPANY_PAGE')\n",
    "            base_emp_search_url = search_query_url[:position]\n",
    "            route = f'{base_emp_search_url}FACETED_SEARCH&title={search_query}'\n",
    "            self.browser.get(route)\n",
    "            self.time.sleep(3)\n",
    "            employees = self.collect(company)\n",
    "        except NoSuchElementException: \n",
    "            employees = []\n",
    "            browser.get(company)\n",
    "            self.time.sleep(2)             \n",
    "        \n",
    "        return employees\n",
    "        \n",
    "\n",
    "    def collect(self, company):\n",
    "        self.time.sleep(3)\n",
    "        try:\n",
    "            # Load page content using beautiful soup\n",
    "            src = browser.page_source\n",
    "            soup = BeautifulSoup(src)\n",
    "            ul_tag = soup.find(\n",
    "                'ul', {'class': 'reusable-search__entity-result-list list-style-none'})\n",
    "            li_tags = ul_tag.find_all('li')\n",
    "            # Loop over each list item and collect data\n",
    "            employees = []\n",
    "            for li_tag in li_tags:\n",
    "                # [Company, Search Query, Name, Title, Location, Employee ]\n",
    "                # Find name and profile link ( Same element )\n",
    "                name_parent = li_tag.find(\n",
    "                    'span', {'class', 'entity-result__title-text t-16'})\n",
    "                target_element = name_parent.find(\"a\", href=True)\n",
    "                name = target_element.get_text().strip()\n",
    "                page_link = target_element['href']\n",
    "                \n",
    "                # Find title\n",
    "                title = li_tag.find(\n",
    "                    'div', {'class': 'entity-result__primary-subtitle t-14 t-black t-normal'}).get_text().strip()\n",
    "\n",
    "                # Find location\n",
    "                location = li_tag.find(\n",
    "                    'div', {'class': 'entity-result__secondary-subtitle t-14 t-normal'}).get_text().strip()\n",
    "                \n",
    "                employee = {\n",
    "                    name: name, \n",
    "                    title: title, \n",
    "                    page_link: page_link, \n",
    "                    location: location\n",
    "                }\n",
    "                employees.append(employee)\n",
    "\n",
    "            # print(employees)\n",
    "            browser.get(company)\n",
    "            self.time.sleep(2)            \n",
    "            return employees\n",
    "\n",
    "        except:\n",
    "            employees = []\n",
    "            self.time.sleep(2)\n",
    "            return employees\n",
    "\n",
    "        # Navigate back to company homepage \n",
    "\n",
    "\n",
    "#Login\n",
    "search = Search(browser, search_terms, time)\n",
    "for company_url in companies: \n",
    "    search.go_to_page(company_url)\n",
    "    \n",
    "browser.close()"
   ]
  }
 ],
 "metadata": {
  "interpreter": {
   "hash": "87c16c7caa655f4bd718a1e1e8093e4b5a751993eaa22ba7f44bf837d2151f7f"
  },
  "kernelspec": {
   "display_name": "Python 3.9.7 ('venv': venv)",
   "language": "python",
   "name": "python3"
  },
  "language_info": {
   "codemirror_mode": {
    "name": "ipython",
    "version": 3
   },
   "file_extension": ".py",
   "mimetype": "text/x-python",
   "name": "python",
   "nbconvert_exporter": "python",
   "pygments_lexer": "ipython3",
   "version": "3.9.7"
  },
  "orig_nbformat": 4
 },
 "nbformat": 4,
 "nbformat_minor": 2
}
